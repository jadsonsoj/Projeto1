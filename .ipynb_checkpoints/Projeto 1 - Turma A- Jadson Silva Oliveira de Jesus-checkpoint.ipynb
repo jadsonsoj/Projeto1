{
 "cells": [
  {
   "cell_type": "markdown",
   "metadata": {},
   "source": [
    "# Projeto 1 - Ciência dos dados "
   ]
  },
  {
   "cell_type": "markdown",
   "metadata": {},
   "source": [
    "## Introdução\n",
    "\n",
    "Há um grande movimento feito pelos países desenvolvidos para desacelerar a emissão de gases estufas como o gás carbonico (CO2), o metano (CH4) e o óxido nitroso (N2O). Para tanto, foram criados incentivos econômicos para que empresas e nações reduzissem as suas emissões; dentre esses, o mais conhecido são os \"Créditos de Carbono\"- moeda criada que premia as empresas que emitem menos toneladas de carbono. \n",
    "\n",
    "Apesar desses incentivos economicos, alguns conspiracionistas colocam que o aquecimento global é na verdade um plano das potencias para manter a sua hegemonia, impedindo o crescimento econômico dos países emergentes. \n",
    "\n",
    "\n",
    "Estariam os conspiracionistas certos? Ou será que: \n",
    "\n",
    "**É possível aumentar o IDH sem acentuar o uso de recursos naturais?** \n",
    "\n",
    "\n",
    "Para tentar explorar um pouco a pergunta, utilizamos dados extraídos do site Gapminder organizados em séries históricas sobre a emissão de CO2 por pessoa, consumo de energia por pessoa e IDH. "
   ]
  },
  {
   "cell_type": "code",
   "execution_count": 46,
   "metadata": {},
   "outputs": [],
   "source": [
    "#Importando as Bibliotecas necessárias\n",
    "\n",
    "%matplotlib inline\n",
    "import pandas as pd\n",
    "import numpy as np\n",
    "import math as math\n",
    "from scipy import stats\n",
    "import matplotlib.pyplot as plt\n",
    "import seaborn as sns"
   ]
  },
  {
   "cell_type": "markdown",
   "metadata": {},
   "source": [
    "#### Abrindo dados das tabelas:"
   ]
  },
  {
   "cell_type": "code",
   "execution_count": 111,
   "metadata": {},
   "outputs": [],
   "source": [
    "idh= pd.read_excel('IDH.xlsx')\n",
    "\n",
    "co2=pd.read_excel('co2_emissions_tonnes_per_person.xlsx')\n",
    "\n",
    "energy=pd.read_excel('energy_use_per_person.xlsx')\n",
    "\n",
    "#Redefinindo os index dos dataframes\n",
    "\n",
    "co2_idx = co2.set_index('geo')\n",
    "\n",
    "idh_idx = idh.set_index('geo')\n",
    "\n",
    "energy_idx = energy.set_index('geo')\n",
    "\n",
    "#Brazil= idh_idx[\"Brazil\":\"Brazil\"]"
   ]
  },
  {
   "cell_type": "markdown",
   "metadata": {},
   "source": [
    "#### Abrindo os dados de 2013:"
   ]
  },
  {
   "cell_type": "code",
   "execution_count": 51,
   "metadata": {},
   "outputs": [
    {
     "data": {
      "text/html": [
       "<div>\n",
       "<style scoped>\n",
       "    .dataframe tbody tr th:only-of-type {\n",
       "        vertical-align: middle;\n",
       "    }\n",
       "\n",
       "    .dataframe tbody tr th {\n",
       "        vertical-align: top;\n",
       "    }\n",
       "\n",
       "    .dataframe thead th {\n",
       "        text-align: right;\n",
       "    }\n",
       "</style>\n",
       "<table border=\"1\" class=\"dataframe\">\n",
       "  <thead>\n",
       "    <tr style=\"text-align: right;\">\n",
       "      <th></th>\n",
       "      <th>geo</th>\n",
       "      <th>2013_idh</th>\n",
       "      <th>2013_co2</th>\n",
       "      <th>2013_energy</th>\n",
       "    </tr>\n",
       "  </thead>\n",
       "  <tbody>\n",
       "    <tr>\n",
       "      <th>0</th>\n",
       "      <td>Albania</td>\n",
       "      <td>0.761</td>\n",
       "      <td>1.73</td>\n",
       "      <td>801.0</td>\n",
       "    </tr>\n",
       "    <tr>\n",
       "      <th>1</th>\n",
       "      <td>Algeria</td>\n",
       "      <td>0.741</td>\n",
       "      <td>3.51</td>\n",
       "      <td>1240.0</td>\n",
       "    </tr>\n",
       "    <tr>\n",
       "      <th>2</th>\n",
       "      <td>Angola</td>\n",
       "      <td>0.527</td>\n",
       "      <td>1.25</td>\n",
       "      <td>534.0</td>\n",
       "    </tr>\n",
       "  </tbody>\n",
       "</table>\n",
       "</div>"
      ],
      "text/plain": [
       "       geo  2013_idh  2013_co2  2013_energy\n",
       "0  Albania     0.761      1.73        801.0\n",
       "1  Algeria     0.741      3.51       1240.0\n",
       "2   Angola     0.527      1.25        534.0"
      ]
     },
     "execution_count": 51,
     "metadata": {},
     "output_type": "execute_result"
    }
   ],
   "source": [
    "#Lendo os dados do ano de 2013\n",
    "\n",
    "dados_2013= pd.read_excel('dados_2013.xlsx')\n",
    "dados_2013.head(3)\n",
    "\n",
    "\n",
    "#O ano de 2013 foi escolhido porque esse era um dos mais recentes que possuiam um maior número de países. "
   ]
  },
  {
   "cell_type": "markdown",
   "metadata": {},
   "source": [
    "## Análises e explicação dos resultados"
   ]
  },
  {
   "cell_type": "code",
   "execution_count": null,
   "metadata": {},
   "outputs": [],
   "source": []
  },
  {
   "cell_type": "code",
   "execution_count": 22,
   "metadata": {},
   "outputs": [
    {
     "data": {
      "text/html": [
       "<div>\n",
       "<style scoped>\n",
       "    .dataframe tbody tr th:only-of-type {\n",
       "        vertical-align: middle;\n",
       "    }\n",
       "\n",
       "    .dataframe tbody tr th {\n",
       "        vertical-align: top;\n",
       "    }\n",
       "\n",
       "    .dataframe thead th {\n",
       "        text-align: right;\n",
       "    }\n",
       "</style>\n",
       "<table border=\"1\" class=\"dataframe\">\n",
       "  <thead>\n",
       "    <tr style=\"text-align: right;\">\n",
       "      <th></th>\n",
       "      <th>geo</th>\n",
       "      <th>2013_idh</th>\n",
       "      <th>2013_co2</th>\n",
       "      <th>2013_energy</th>\n",
       "    </tr>\n",
       "  </thead>\n",
       "  <tbody>\n",
       "    <tr>\n",
       "      <th>108</th>\n",
       "      <td>Norway</td>\n",
       "      <td>0.945</td>\n",
       "      <td>11.50</td>\n",
       "      <td>6420.0</td>\n",
       "    </tr>\n",
       "    <tr>\n",
       "      <th>143</th>\n",
       "      <td>Switzerland</td>\n",
       "      <td>0.936</td>\n",
       "      <td>4.95</td>\n",
       "      <td>3300.0</td>\n",
       "    </tr>\n",
       "    <tr>\n",
       "      <th>6</th>\n",
       "      <td>Australia</td>\n",
       "      <td>0.936</td>\n",
       "      <td>16.10</td>\n",
       "      <td>5460.0</td>\n",
       "    </tr>\n",
       "    <tr>\n",
       "      <th>40</th>\n",
       "      <td>Denmark</td>\n",
       "      <td>0.926</td>\n",
       "      <td>6.83</td>\n",
       "      <td>3130.0</td>\n",
       "    </tr>\n",
       "    <tr>\n",
       "      <th>103</th>\n",
       "      <td>Netherlands</td>\n",
       "      <td>0.923</td>\n",
       "      <td>10.30</td>\n",
       "      <td>4600.0</td>\n",
       "    </tr>\n",
       "  </tbody>\n",
       "</table>\n",
       "</div>"
      ],
      "text/plain": [
       "             geo  2013_idh  2013_co2  2013_energy\n",
       "108       Norway     0.945     11.50       6420.0\n",
       "143  Switzerland     0.936      4.95       3300.0\n",
       "6      Australia     0.936     16.10       5460.0\n",
       "40       Denmark     0.926      6.83       3130.0\n",
       "103  Netherlands     0.923     10.30       4600.0"
      ]
     },
     "execution_count": 22,
     "metadata": {},
     "output_type": "execute_result"
    }
   ],
   "source": [
    "dados_2013.sort_values(by='2013_idh', ascending=False).head(5)"
   ]
  },
  {
   "cell_type": "code",
   "execution_count": null,
   "metadata": {},
   "outputs": [],
   "source": []
  },
  {
   "cell_type": "code",
   "execution_count": 62,
   "metadata": {},
   "outputs": [
    {
     "data": {
      "text/plain": [
       "count    167.000000\n",
       "mean       0.713425\n",
       "std        0.142121\n",
       "min        0.345000\n",
       "25%        0.613000\n",
       "50%        0.737000\n",
       "75%        0.821000\n",
       "max        0.945000\n",
       "Name: 2013_idh, dtype: float64"
      ]
     },
     "execution_count": 62,
     "metadata": {},
     "output_type": "execute_result"
    }
   ],
   "source": [
    "dados_2013['2013_idh'].describe()"
   ]
  },
  {
   "cell_type": "code",
   "execution_count": 65,
   "metadata": {},
   "outputs": [
    {
     "data": {
      "text/plain": [
       "count    167.000000\n",
       "mean       5.006738\n",
       "std        6.082277\n",
       "min        0.050300\n",
       "25%        0.996500\n",
       "50%        2.910000\n",
       "75%        6.435000\n",
       "max       37.800000\n",
       "Name: 2013_co2, dtype: float64"
      ]
     },
     "execution_count": 65,
     "metadata": {},
     "output_type": "execute_result"
    }
   ],
   "source": [
    "dados_2013['2013_co2'].describe()"
   ]
  },
  {
   "cell_type": "code",
   "execution_count": 66,
   "metadata": {},
   "outputs": [
    {
     "data": {
      "text/plain": [
       "count      136.000000\n",
       "mean      2547.261765\n",
       "std       3022.268360\n",
       "min         60.600000\n",
       "25%        663.250000\n",
       "50%       1505.000000\n",
       "75%       3130.000000\n",
       "max      18200.000000\n",
       "Name: 2013_energy, dtype: float64"
      ]
     },
     "execution_count": 66,
     "metadata": {},
     "output_type": "execute_result"
    }
   ],
   "source": [
    "dados_2013['2013_energy'].describe()"
   ]
  },
  {
   "cell_type": "code",
   "execution_count": 24,
   "metadata": {},
   "outputs": [],
   "source": [
    "#pd.pivot_table(data=dados_2013, index='geo', columns='2013_idh', values='2013_co2', aggfunc=np.mean)"
   ]
  },
  {
   "cell_type": "code",
   "execution_count": 57,
   "metadata": {},
   "outputs": [
    {
     "data": {
      "text/html": [
       "<div>\n",
       "<style scoped>\n",
       "    .dataframe tbody tr th:only-of-type {\n",
       "        vertical-align: middle;\n",
       "    }\n",
       "\n",
       "    .dataframe tbody tr th {\n",
       "        vertical-align: top;\n",
       "    }\n",
       "\n",
       "    .dataframe thead th {\n",
       "        text-align: right;\n",
       "    }\n",
       "</style>\n",
       "<table border=\"1\" class=\"dataframe\">\n",
       "  <thead>\n",
       "    <tr style=\"text-align: right;\">\n",
       "      <th></th>\n",
       "      <th>log_2013_co2</th>\n",
       "      <th>log_2013_idh</th>\n",
       "    </tr>\n",
       "  </thead>\n",
       "  <tbody>\n",
       "    <tr>\n",
       "      <th>log_2013_co2</th>\n",
       "      <td>1.000000</td>\n",
       "      <td>0.870762</td>\n",
       "    </tr>\n",
       "    <tr>\n",
       "      <th>log_2013_idh</th>\n",
       "      <td>0.870762</td>\n",
       "      <td>1.000000</td>\n",
       "    </tr>\n",
       "  </tbody>\n",
       "</table>\n",
       "</div>"
      ],
      "text/plain": [
       "              log_2013_co2  log_2013_idh\n",
       "log_2013_co2      1.000000      0.870762\n",
       "log_2013_idh      0.870762      1.000000"
      ]
     },
     "execution_count": 57,
     "metadata": {},
     "output_type": "execute_result"
    },
    {
     "data": {
      "image/png": "[encoded data removed]",
      "text/plain": [
       "<matplotlib.figure.Figure at 0x267850180b8>"
      ]
     },
     "metadata": {},
     "output_type": "display_data"
    }
   ],
   "source": [
    "#Gerando o gráfico de dispersão e a tabela de correlação entre nível do IDH e emissão de CO2. \n",
    "\n",
    "#Criando colunas em escala logarítmica, uma vez que a correlação não fica tão evidente na escala geral. \n",
    "\n",
    "dados_2013['log_2013_idh']=np.log(dados_2013['2013_idh'])\n",
    "dados_2013['log_2013_co2']=np.log(dados_2013['2013_co2'])\n",
    "dados_2013['log_2013_energy']=np.log(dados_2013['2013_energy'])\n",
    "\n",
    "\n",
    "sns.lmplot(x='log_2013_co2', y='log_2013_idh', data=dados_2013);\n",
    "\n",
    "dados_2013.loc[:,['log_2013_co2','log_2013_idh']].corr()"
   ]
  },
  {
   "cell_type": "markdown",
   "metadata": {},
   "source": [
    "Como observado no gráfico acima e também na tabela, há uma forte correlação positiva entre a emissão de CO2 e o IDH. Em outras palavras, os países com o maior IDH são também os que tem maior emissão de gases. "
   ]
  },
  {
   "cell_type": "code",
   "execution_count": 58,
   "metadata": {},
   "outputs": [
    {
     "data": {
      "text/html": [
       "<div>\n",
       "<style scoped>\n",
       "    .dataframe tbody tr th:only-of-type {\n",
       "        vertical-align: middle;\n",
       "    }\n",
       "\n",
       "    .dataframe tbody tr th {\n",
       "        vertical-align: top;\n",
       "    }\n",
       "\n",
       "    .dataframe thead th {\n",
       "        text-align: right;\n",
       "    }\n",
       "</style>\n",
       "<table border=\"1\" class=\"dataframe\">\n",
       "  <thead>\n",
       "    <tr style=\"text-align: right;\">\n",
       "      <th></th>\n",
       "      <th>log_2013_energy</th>\n",
       "      <th>log_2013_idh</th>\n",
       "    </tr>\n",
       "  </thead>\n",
       "  <tbody>\n",
       "    <tr>\n",
       "      <th>log_2013_energy</th>\n",
       "      <td>1.000000</td>\n",
       "      <td>0.820702</td>\n",
       "    </tr>\n",
       "    <tr>\n",
       "      <th>log_2013_idh</th>\n",
       "      <td>0.820702</td>\n",
       "      <td>1.000000</td>\n",
       "    </tr>\n",
       "  </tbody>\n",
       "</table>\n",
       "</div>"
      ],
      "text/plain": [
       "                 log_2013_energy  log_2013_idh\n",
       "log_2013_energy         1.000000      0.820702\n",
       "log_2013_idh            0.820702      1.000000"
      ]
     },
     "execution_count": 58,
     "metadata": {},
     "output_type": "execute_result"
    },
    {
     "data": {
      "image/png": "[encoded data removed]",
      "text/plain": [
       "<matplotlib.figure.Figure at 0x26784c39390>"
      ]
     },
     "metadata": {},
     "output_type": "display_data"
    }
   ],
   "source": [
    "#Gerando o gráfico de dispersão e a tabela de correlação entre nível do IDH e emissão de CO2. \n",
    "\n",
    "sns.lmplot(x='log_2013_energy', y='log_2013_idh', data=dados_2013);\n",
    "\n",
    "dados_2013.loc[:,['log_2013_energy','log_2013_idh']].corr()"
   ]
  },
  {
   "cell_type": "markdown",
   "metadata": {},
   "source": [
    "Da mesma forma para o consumo de energia: Observamos uma grande correlação positiva entre o IDH e o consumo de energia por pessoa.\n",
    "\n",
    "Abaixo uma tabela de correlação entre as colunas."
   ]
  },
  {
   "cell_type": "code",
   "execution_count": 60,
   "metadata": {},
   "outputs": [
    {
     "data": {
      "text/html": [
       "<div>\n",
       "<style scoped>\n",
       "    .dataframe tbody tr th:only-of-type {\n",
       "        vertical-align: middle;\n",
       "    }\n",
       "\n",
       "    .dataframe tbody tr th {\n",
       "        vertical-align: top;\n",
       "    }\n",
       "\n",
       "    .dataframe thead th {\n",
       "        text-align: right;\n",
       "    }\n",
       "</style>\n",
       "<table border=\"1\" class=\"dataframe\">\n",
       "  <thead>\n",
       "    <tr style=\"text-align: right;\">\n",
       "      <th></th>\n",
       "      <th>2013_idh</th>\n",
       "      <th>2013_co2</th>\n",
       "      <th>2013_energy</th>\n",
       "      <th>log_2013_idh</th>\n",
       "      <th>log_2013_co2</th>\n",
       "      <th>log_2013_energy</th>\n",
       "    </tr>\n",
       "  </thead>\n",
       "  <tbody>\n",
       "    <tr>\n",
       "      <th>2013_idh</th>\n",
       "      <td>1.000000</td>\n",
       "      <td>0.566731</td>\n",
       "      <td>0.550563</td>\n",
       "      <td>0.992827</td>\n",
       "      <td>0.866633</td>\n",
       "      <td>0.836781</td>\n",
       "    </tr>\n",
       "    <tr>\n",
       "      <th>2013_co2</th>\n",
       "      <td>0.566731</td>\n",
       "      <td>1.000000</td>\n",
       "      <td>0.861019</td>\n",
       "      <td>0.545283</td>\n",
       "      <td>0.779043</td>\n",
       "      <td>0.809106</td>\n",
       "    </tr>\n",
       "    <tr>\n",
       "      <th>2013_energy</th>\n",
       "      <td>0.550563</td>\n",
       "      <td>0.861019</td>\n",
       "      <td>1.000000</td>\n",
       "      <td>0.521393</td>\n",
       "      <td>0.674061</td>\n",
       "      <td>0.826074</td>\n",
       "    </tr>\n",
       "    <tr>\n",
       "      <th>log_2013_idh</th>\n",
       "      <td>0.992827</td>\n",
       "      <td>0.545283</td>\n",
       "      <td>0.521393</td>\n",
       "      <td>1.000000</td>\n",
       "      <td>0.870762</td>\n",
       "      <td>0.820702</td>\n",
       "    </tr>\n",
       "    <tr>\n",
       "      <th>log_2013_co2</th>\n",
       "      <td>0.866633</td>\n",
       "      <td>0.779043</td>\n",
       "      <td>0.674061</td>\n",
       "      <td>0.870762</td>\n",
       "      <td>1.000000</td>\n",
       "      <td>0.913059</td>\n",
       "    </tr>\n",
       "    <tr>\n",
       "      <th>log_2013_energy</th>\n",
       "      <td>0.836781</td>\n",
       "      <td>0.809106</td>\n",
       "      <td>0.826074</td>\n",
       "      <td>0.820702</td>\n",
       "      <td>0.913059</td>\n",
       "      <td>1.000000</td>\n",
       "    </tr>\n",
       "  </tbody>\n",
       "</table>\n",
       "</div>"
      ],
      "text/plain": [
       "                 2013_idh  2013_co2  2013_energy  log_2013_idh  log_2013_co2  \\\n",
       "2013_idh         1.000000  0.566731     0.550563      0.992827      0.866633   \n",
       "2013_co2         0.566731  1.000000     0.861019      0.545283      0.779043   \n",
       "2013_energy      0.550563  0.861019     1.000000      0.521393      0.674061   \n",
       "log_2013_idh     0.992827  0.545283     0.521393      1.000000      0.870762   \n",
       "log_2013_co2     0.866633  0.779043     0.674061      0.870762      1.000000   \n",
       "log_2013_energy  0.836781  0.809106     0.826074      0.820702      0.913059   \n",
       "\n",
       "                 log_2013_energy  \n",
       "2013_idh                0.836781  \n",
       "2013_co2                0.809106  \n",
       "2013_energy             0.826074  \n",
       "log_2013_idh            0.820702  \n",
       "log_2013_co2            0.913059  \n",
       "log_2013_energy         1.000000  "
      ]
     },
     "execution_count": 60,
     "metadata": {},
     "output_type": "execute_result"
    }
   ],
   "source": [
    "dados_2013.corr()"
   ]
  },
  {
   "cell_type": "code",
   "execution_count": null,
   "metadata": {},
   "outputs": [],
   "source": []
  },
  {
   "cell_type": "markdown",
   "metadata": {},
   "source": [
    "## Conclusão"
   ]
  },
  {
   "cell_type": "markdown",
   "metadata": {},
   "source": [
    "Os resultados observados indicam que de fato há uma relação entre um maior IDH e maior uso de recursos naturais. Contudo, é difícil dizer "
   ]
  },
  {
   "cell_type": "markdown",
   "metadata": {},
   "source": [
    "### Fontes: "
   ]
  },
  {
   "cell_type": "markdown",
   "metadata": {},
   "source": [
    "Dados utilizados: https://www.gapminder.org\n",
    "\n",
    "Sobre a teoria da conspiração do aquecimento global: https://goo.gl/cPg1Ri"
   ]
  }
 ],
 "metadata": {
  "kernelspec": {
   "display_name": "Python 3",
   "language": "python",
   "name": "python3"
  },
  "language_info": {
   "codemirror_mode": {
    "name": "ipython",
    "version": 3
   },
   "file_extension": ".py",
   "mimetype": "text/x-python",
   "name": "python",
   "nbconvert_exporter": "python",
   "pygments_lexer": "ipython3",
   "version": "3.6.4"
  }
 },
 "nbformat": 4,
 "nbformat_minor": 2
}
